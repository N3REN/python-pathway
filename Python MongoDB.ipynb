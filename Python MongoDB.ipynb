{
  "nbformat": 4,
  "nbformat_minor": 0,
  "metadata": {
    "colab": {
      "name": "Python MongoDB.ipynb",
      "provenance": [],
      "collapsed_sections": [],
      "authorship_tag": "ABX9TyMwLhTNrXfwtq/MZBqhT49q",
      "include_colab_link": true
    },
    "kernelspec": {
      "name": "python3",
      "display_name": "Python 3"
    },
    "language_info": {
      "name": "python"
    }
  },
  "cells": [
    {
      "cell_type": "markdown",
      "metadata": {
        "id": "view-in-github",
        "colab_type": "text"
      },
      "source": [
        "<a href=\"https://colab.research.google.com/github/N3REN/python-pathway/blob/main/Python%20MongoDB.ipynb\" target=\"_parent\"><img src=\"https://colab.research.google.com/assets/colab-badge.svg\" alt=\"Open In Colab\"/></a>"
      ]
    },
    {
      "cell_type": "code",
      "execution_count": null,
      "metadata": {
        "colab": {
          "base_uri": "https://localhost:8080/"
        },
        "id": "sMpeNQ0J0ol_",
        "outputId": "c25afdea-6d39-49ef-9b98-67e199c3a83c"
      },
      "outputs": [
        {
          "output_type": "stream",
          "name": "stdout",
          "text": [
            "\n",
            "WARNING: apt does not have a stable CLI interface. Use with caution in scripts.\n",
            "\n",
            " * Starting database mongodb\n",
            "   ...done.\n"
          ]
        },
        {
          "output_type": "execute_result",
          "data": {
            "text/plain": [
              "['admin', 'local']"
            ]
          },
          "metadata": {},
          "execution_count": 32
        }
      ],
      "source": [
        "# Install mongodb\n",
        "!apt install mongodb >log\n",
        "!service mongodb start\n",
        "\n",
        "from pymongo import MongoClient\n",
        "\n",
        "client = MongoClient()\n",
        "client.list_database_names()"
      ]
    },
    {
      "cell_type": "code",
      "source": [
        "# Create database\n",
        "import pymongo\n",
        "\n",
        "client = pymongo.MongoClient(\"mongodb://localhost:27017/\")\n",
        "\n",
        "colabdb = client[\"newdatabase\"]"
      ],
      "metadata": {
        "id": "AYigHwQo0-5j"
      },
      "execution_count": null,
      "outputs": []
    },
    {
      "cell_type": "code",
      "source": [
        "# A collection is the same as a table\n",
        "\n",
        "newcoll = colabdb[\"newtable\"]"
      ],
      "metadata": {
        "id": "4RANPKa99FS4"
      },
      "execution_count": null,
      "outputs": []
    },
    {
      "cell_type": "code",
      "source": [
        "# A document is the same as a record (or row)\n",
        "# Create a document using the 'insert_one()' method\n",
        "# The new document is in dict form\n",
        "\n",
        "newdict = {\"fname\": \"Tyler\", \"lname\": \"Chesky\", \"address\": \"22 Southampton\"}\n",
        "\n",
        "x = newcoll.insert_one(newdict)"
      ],
      "metadata": {
        "id": "UCLQ44BO9hTB"
      },
      "execution_count": null,
      "outputs": []
    },
    {
      "cell_type": "code",
      "source": [
        "# MongoDB returns an _id for an inserted document if one is not specified\n",
        "\n",
        "print(x.inserted_id)"
      ],
      "metadata": {
        "colab": {
          "base_uri": "https://localhost:8080/"
        },
        "id": "mD1sABYAGVOS",
        "outputId": "b576c907-a422-424d-f253-8d4e13adf735"
      },
      "execution_count": null,
      "outputs": [
        {
          "output_type": "stream",
          "name": "stdout",
          "text": [
            "625b17b6470a249dff08b824\n"
          ]
        }
      ]
    },
    {
      "cell_type": "code",
      "source": [
        "# MongoDB waits until a document\n",
        "# is added to a collection in a\n",
        "# database before creating the\n",
        "# collection and database\n",
        "\n",
        "#Check if database exists\n",
        "print(client.list_database_names())"
      ],
      "metadata": {
        "colab": {
          "base_uri": "https://localhost:8080/"
        },
        "id": "fA90fSmv2alO",
        "outputId": "fdd963e4-d1bd-440f-cf34-4b8781fff3ce"
      },
      "execution_count": null,
      "outputs": [
        {
          "output_type": "stream",
          "name": "stdout",
          "text": [
            "['admin', 'local', 'newdatabase']\n"
          ]
        }
      ]
    },
    {
      "cell_type": "markdown",
      "source": [
        "Check if table exists"
      ],
      "metadata": {
        "id": "SjdR7H3Y3WV3"
      }
    },
    {
      "cell_type": "code",
      "source": [
        "listtb = colabdb.list_collection_names()\n",
        "\n",
        "print(listtb)\n",
        "#OR\n",
        "if \"newtable\" in listtb:\n",
        "    print(\"Your table exists.\")"
      ],
      "metadata": {
        "colab": {
          "base_uri": "https://localhost:8080/"
        },
        "id": "RraWff3Q3VFq",
        "outputId": "68ee1003-5661-4500-b0b9-be21d2ab9381"
      },
      "execution_count": null,
      "outputs": [
        {
          "output_type": "stream",
          "name": "stdout",
          "text": [
            "['newtable']\n",
            "Your table exists.\n"
          ]
        }
      ]
    },
    {
      "cell_type": "markdown",
      "source": [
        "Insert many documents"
      ],
      "metadata": {
        "id": "ZBWIuYwy64jf"
      }
    },
    {
      "cell_type": "code",
      "source": [
        "manydicts = [\n",
        "             {\"fname\": \"Steve\", \"lname\": \"Graham\", \"address\": \"Paradise St., No. 27\"},\n",
        "             {\"fname\": \"John\", \"lname\": \"Macmillan\", \"address\": \"7 Busy St.\"},\n",
        "             {\"fname\": \"Bill\", \"lname\": \"Green\", \"address\": \"29 Main St\"},\n",
        "             {\"fname\": \"Davis\", \"lname\": \"West\", \"address\": \"57 Maple Avenue\"},\n",
        "             {\"fname\": \"Harry\", \"lname\": \"Dimitriov\", \"address\": \"13 South Boulevard\"}\n",
        "]\n",
        "\n",
        "y = newcoll.insert_many(manydicts)"
      ],
      "metadata": {
        "id": "esqa5JGl68_m"
      },
      "execution_count": null,
      "outputs": []
    },
    {
      "cell_type": "code",
      "source": [
        "# insert_many() returns _id(s) for each inserted item\n",
        "\n",
        "print(y.inserted_ids)"
      ],
      "metadata": {
        "colab": {
          "base_uri": "https://localhost:8080/"
        },
        "id": "BvM99NqmOgeX",
        "outputId": "d666ad45-e448-4607-d7b8-874cdaadf178"
      },
      "execution_count": null,
      "outputs": [
        {
          "output_type": "stream",
          "name": "stdout",
          "text": [
            "[ObjectId('625b17ca470a249dff08b825'), ObjectId('625b17ca470a249dff08b826'), ObjectId('625b17ca470a249dff08b827'), ObjectId('625b17ca470a249dff08b828'), ObjectId('625b17ca470a249dff08b829')]\n"
          ]
        }
      ]
    },
    {
      "cell_type": "markdown",
      "source": [
        "_insert_many_ with specified __id_(s)"
      ],
      "metadata": {
        "id": "kgh9Y9pNQiRc"
      }
    },
    {
      "cell_type": "code",
      "source": [
        "manydicts = [\n",
        "            {\"_id\": 1, \"fname\": \"Travis\", \"lname\": \"Wyatt\", \"address\": \"22 Elm Street\"},\n",
        "            {\"_id\": 2, \"fname\": \"Umar\", \"lname\": \"Abu\", \"address\": \"37 5th Avenue\"},\n",
        "            {\"_id\": 3, \"fname\": \"Christopher\", \"lname\": \"Lee\", \"address\": \"West 22, 117th Street\"},\n",
        "            {\"_id\": 4, \"fname\": \"David\", \"lname\": \"Roberts\", \"address\": \"81 Pine Boulevard\"},\n",
        "            {\"_id\": 5, \"fname\": \"Jonathan\", \"lname\": \"Columbus\", \"address\": \"52 72nd Street\"}\n",
        "]\n",
        "\n",
        "z = newcoll.insert_many(manydicts)\n",
        "print(z.inserted_ids)"
      ],
      "metadata": {
        "id": "cQxQcrt6Oxw9",
        "colab": {
          "base_uri": "https://localhost:8080/"
        },
        "outputId": "813bc085-c73b-4b69-c149-797368410e90"
      },
      "execution_count": null,
      "outputs": [
        {
          "output_type": "stream",
          "name": "stdout",
          "text": [
            "[1, 2, 3, 4, 5]\n"
          ]
        }
      ]
    },
    {
      "cell_type": "markdown",
      "source": [
        "**MongoDB Find**"
      ],
      "metadata": {
        "id": "Lz094JrkU7Hl"
      }
    },
    {
      "cell_type": "markdown",
      "source": [
        "-'find()' and 'findone()' work like MySQL 'SELECT'\n",
        "\n",
        "-The 'find_one()' method returns the first occurrence in the selection\n",
        "\n",
        "-'find()' works like 'SELECT *' in MySQL by selecting all occurences"
      ],
      "metadata": {
        "id": "4WcaO7CwWLJ_"
      }
    },
    {
      "cell_type": "code",
      "source": [
        "# find_one()\n",
        "a = newcoll.find_one() # this will return the first document in the collection\n",
        "\n",
        "print(a)"
      ],
      "metadata": {
        "colab": {
          "base_uri": "https://localhost:8080/"
        },
        "id": "OCGxbHJwVHjv",
        "outputId": "0b61c634-0280-4855-948c-cc8da9b29d96"
      },
      "execution_count": null,
      "outputs": [
        {
          "output_type": "stream",
          "name": "stdout",
          "text": [
            "{'_id': ObjectId('625b17b6470a249dff08b824'), 'fname': 'Tyler', 'lname': 'Chesky', 'address': '22 Southampton'}\n"
          ]
        }
      ]
    },
    {
      "cell_type": "code",
      "source": [
        "# find() (find({\"column\": \"content\"})\n",
        "for b in newcoll.find():\n",
        "    print(b)"
      ],
      "metadata": {
        "colab": {
          "base_uri": "https://localhost:8080/"
        },
        "id": "Xw_bMgTohp49",
        "outputId": "4b678a22-b194-4eab-f7cc-1c329e4444a7"
      },
      "execution_count": null,
      "outputs": [
        {
          "output_type": "stream",
          "name": "stdout",
          "text": [
            "{'_id': ObjectId('625b17b6470a249dff08b824'), 'fname': 'Tyler', 'lname': 'Chesky', 'address': '22 Southampton'}\n",
            "{'_id': ObjectId('625b17ca470a249dff08b825'), 'fname': 'Steve', 'lname': 'Graham', 'address': 'Paradise St., No. 27'}\n",
            "{'_id': ObjectId('625b17ca470a249dff08b826'), 'fname': 'John', 'lname': 'Macmillan', 'address': '7 Busy St.'}\n",
            "{'_id': ObjectId('625b17ca470a249dff08b827'), 'fname': 'Bill', 'lname': 'Green', 'address': '29 Main St'}\n",
            "{'_id': ObjectId('625b17ca470a249dff08b828'), 'fname': 'Davis', 'lname': 'West', 'address': '57 Maple Avenue'}\n",
            "{'_id': ObjectId('625b17ca470a249dff08b829'), 'fname': 'Harry', 'lname': 'Dimitriov', 'address': '13 South Boulevard'}\n",
            "{'_id': 1, 'fname': 'Travis', 'lname': 'Wyatt', 'address': '22 Elm Street'}\n",
            "{'_id': 2, 'fname': 'Umar', 'lname': 'Abu', 'address': '37 5th Avenue'}\n",
            "{'_id': 3, 'fname': 'Christopher', 'lname': 'Lee', 'address': 'West 22, 117th Street'}\n",
            "{'_id': 4, 'fname': 'David', 'lname': 'Roberts', 'address': '81 Pine Boulevard'}\n",
            "{'_id': 5, 'fname': 'Jonathan', 'lname': 'Columbus', 'address': '52 72nd Street'}\n"
          ]
        }
      ]
    },
    {
      "cell_type": "markdown",
      "source": [
        "**Find: Return only some fields**\n",
        "\n",
        "Optionally specify (in addition to a query) which fields to return"
      ],
      "metadata": {
        "id": "hcj4hc8IaBka"
      }
    },
    {
      "cell_type": "code",
      "source": [
        "for i in newcoll.find({}, {'_id': False, \"fname\": True, \"lname\": True, \"address\": True}):\n",
        "    print(i)"
      ],
      "metadata": {
        "id": "4nxaBjg3aB1L",
        "colab": {
          "base_uri": "https://localhost:8080/"
        },
        "outputId": "9223c782-984e-4069-8c9a-85a013cccf10"
      },
      "execution_count": null,
      "outputs": [
        {
          "output_type": "stream",
          "name": "stdout",
          "text": [
            "{'fname': 'Tyler', 'lname': 'Chesky', 'address': '22 Southampton'}\n",
            "{'fname': 'Steve', 'lname': 'Graham', 'address': 'Paradise St., No. 27'}\n",
            "{'fname': 'John', 'lname': 'Macmillan', 'address': '7 Busy St.'}\n",
            "{'fname': 'Bill', 'lname': 'Green', 'address': '29 Main St'}\n",
            "{'fname': 'Davis', 'lname': 'West', 'address': '57 Maple Avenue'}\n",
            "{'fname': 'Harry', 'lname': 'Dimitriov', 'address': '13 South Boulevard'}\n",
            "{'fname': 'Travis', 'lname': 'Wyatt', 'address': '22 Elm Street'}\n",
            "{'fname': 'Umar', 'lname': 'Abu', 'address': '37 5th Avenue'}\n",
            "{'fname': 'Christopher', 'lname': 'Lee', 'address': 'West 22, 117th Street'}\n",
            "{'fname': 'David', 'lname': 'Roberts', 'address': '81 Pine Boulevard'}\n",
            "{'fname': 'Jonathan', 'lname': 'Columbus', 'address': '52 72nd Street'}\n"
          ]
        }
      ]
    },
    {
      "cell_type": "markdown",
      "source": [
        "Excluding any column(s) includes all the others, and including any column(s) excludes the others."
      ],
      "metadata": {
        "id": "9psV9hPsnGfH"
      }
    },
    {
      "cell_type": "code",
      "source": [
        "for i in newcoll.find({}, {\"address\": 0}):\n",
        "    print(i)"
      ],
      "metadata": {
        "id": "AYvKJb7GnuVH",
        "colab": {
          "base_uri": "https://localhost:8080/"
        },
        "outputId": "aea2ad26-d312-4c1c-8eec-da1bcd8fa26a"
      },
      "execution_count": null,
      "outputs": [
        {
          "output_type": "stream",
          "name": "stdout",
          "text": [
            "{'_id': ObjectId('625b17b6470a249dff08b824'), 'fname': 'Tyler', 'lname': 'Chesky'}\n",
            "{'_id': ObjectId('625b17ca470a249dff08b825'), 'fname': 'Steve', 'lname': 'Graham'}\n",
            "{'_id': ObjectId('625b17ca470a249dff08b826'), 'fname': 'John', 'lname': 'Macmillan'}\n",
            "{'_id': ObjectId('625b17ca470a249dff08b827'), 'fname': 'Bill', 'lname': 'Green'}\n",
            "{'_id': ObjectId('625b17ca470a249dff08b828'), 'fname': 'Davis', 'lname': 'West'}\n",
            "{'_id': ObjectId('625b17ca470a249dff08b829'), 'fname': 'Harry', 'lname': 'Dimitriov'}\n",
            "{'_id': 1, 'fname': 'Travis', 'lname': 'Wyatt'}\n",
            "{'_id': 2, 'fname': 'Umar', 'lname': 'Abu'}\n",
            "{'_id': 3, 'fname': 'Christopher', 'lname': 'Lee'}\n",
            "{'_id': 4, 'fname': 'David', 'lname': 'Roberts'}\n",
            "{'_id': 5, 'fname': 'Jonathan', 'lname': 'Columbus'}\n"
          ]
        }
      ]
    },
    {
      "cell_type": "markdown",
      "source": [
        "Do not specify both 0 and 1 in the same search (except if one of the columns is the '_id' field) otherwise an error is raised"
      ],
      "metadata": {
        "id": "VnylujV5mNK2"
      }
    },
    {
      "cell_type": "code",
      "source": [
        "for i in newcoll.find({}, {\"fname\": 0, \"address\": 1}):\n",
        "    print(i)"
      ],
      "metadata": {
        "colab": {
          "base_uri": "https://localhost:8080/",
          "height": 748
        },
        "id": "CFjz1ihhmqEA",
        "outputId": "44181bd6-c511-4307-edef-83b55e8496ae"
      },
      "execution_count": null,
      "outputs": [
        {
          "output_type": "error",
          "ename": "OperationFailure",
          "evalue": "ignored",
          "traceback": [
            "\u001b[0;31m---------------------------------------------------------------------------\u001b[0m",
            "\u001b[0;31mOperationFailure\u001b[0m                          Traceback (most recent call last)",
            "\u001b[0;32m<ipython-input-47-6ee452576684>\u001b[0m in \u001b[0;36m<module>\u001b[0;34m()\u001b[0m\n\u001b[0;32m----> 1\u001b[0;31m \u001b[0;32mfor\u001b[0m \u001b[0mi\u001b[0m \u001b[0;32min\u001b[0m \u001b[0mnewcoll\u001b[0m\u001b[0;34m.\u001b[0m\u001b[0mfind\u001b[0m\u001b[0;34m(\u001b[0m\u001b[0;34m{\u001b[0m\u001b[0;34m}\u001b[0m\u001b[0;34m,\u001b[0m \u001b[0;34m{\u001b[0m\u001b[0;34m\"fname\"\u001b[0m\u001b[0;34m:\u001b[0m \u001b[0;36m0\u001b[0m\u001b[0;34m,\u001b[0m \u001b[0;34m\"address\"\u001b[0m\u001b[0;34m:\u001b[0m \u001b[0;36m1\u001b[0m\u001b[0;34m}\u001b[0m\u001b[0;34m)\u001b[0m\u001b[0;34m:\u001b[0m\u001b[0;34m\u001b[0m\u001b[0;34m\u001b[0m\u001b[0m\n\u001b[0m\u001b[1;32m      2\u001b[0m     \u001b[0mprint\u001b[0m\u001b[0;34m(\u001b[0m\u001b[0mi\u001b[0m\u001b[0;34m)\u001b[0m\u001b[0;34m\u001b[0m\u001b[0;34m\u001b[0m\u001b[0m\n",
            "\u001b[0;32m/usr/local/lib/python3.7/dist-packages/pymongo/cursor.py\u001b[0m in \u001b[0;36mnext\u001b[0;34m(self)\u001b[0m\n\u001b[1;32m   1246\u001b[0m         \u001b[0;32mif\u001b[0m \u001b[0mself\u001b[0m\u001b[0;34m.\u001b[0m\u001b[0m__empty\u001b[0m\u001b[0;34m:\u001b[0m\u001b[0;34m\u001b[0m\u001b[0;34m\u001b[0m\u001b[0m\n\u001b[1;32m   1247\u001b[0m             \u001b[0;32mraise\u001b[0m \u001b[0mStopIteration\u001b[0m\u001b[0;34m\u001b[0m\u001b[0;34m\u001b[0m\u001b[0m\n\u001b[0;32m-> 1248\u001b[0;31m         \u001b[0;32mif\u001b[0m \u001b[0mlen\u001b[0m\u001b[0;34m(\u001b[0m\u001b[0mself\u001b[0m\u001b[0;34m.\u001b[0m\u001b[0m__data\u001b[0m\u001b[0;34m)\u001b[0m \u001b[0;32mor\u001b[0m \u001b[0mself\u001b[0m\u001b[0;34m.\u001b[0m\u001b[0m_refresh\u001b[0m\u001b[0;34m(\u001b[0m\u001b[0;34m)\u001b[0m\u001b[0;34m:\u001b[0m\u001b[0;34m\u001b[0m\u001b[0;34m\u001b[0m\u001b[0m\n\u001b[0m\u001b[1;32m   1249\u001b[0m             \u001b[0;32mreturn\u001b[0m \u001b[0mself\u001b[0m\u001b[0;34m.\u001b[0m\u001b[0m__data\u001b[0m\u001b[0;34m.\u001b[0m\u001b[0mpopleft\u001b[0m\u001b[0;34m(\u001b[0m\u001b[0;34m)\u001b[0m\u001b[0;34m\u001b[0m\u001b[0;34m\u001b[0m\u001b[0m\n\u001b[1;32m   1250\u001b[0m         \u001b[0;32melse\u001b[0m\u001b[0;34m:\u001b[0m\u001b[0;34m\u001b[0m\u001b[0;34m\u001b[0m\u001b[0m\n",
            "\u001b[0;32m/usr/local/lib/python3.7/dist-packages/pymongo/cursor.py\u001b[0m in \u001b[0;36m_refresh\u001b[0;34m(self)\u001b[0m\n\u001b[1;32m   1163\u001b[0m                 \u001b[0mself\u001b[0m\u001b[0;34m.\u001b[0m\u001b[0m__exhaust\u001b[0m\u001b[0;34m,\u001b[0m\u001b[0;34m\u001b[0m\u001b[0;34m\u001b[0m\u001b[0m\n\u001b[1;32m   1164\u001b[0m             )\n\u001b[0;32m-> 1165\u001b[0;31m             \u001b[0mself\u001b[0m\u001b[0;34m.\u001b[0m\u001b[0m__send_message\u001b[0m\u001b[0;34m(\u001b[0m\u001b[0mq\u001b[0m\u001b[0;34m)\u001b[0m\u001b[0;34m\u001b[0m\u001b[0;34m\u001b[0m\u001b[0m\n\u001b[0m\u001b[1;32m   1166\u001b[0m         \u001b[0;32melif\u001b[0m \u001b[0mself\u001b[0m\u001b[0;34m.\u001b[0m\u001b[0m__id\u001b[0m\u001b[0;34m:\u001b[0m  \u001b[0;31m# Get More\u001b[0m\u001b[0;34m\u001b[0m\u001b[0;34m\u001b[0m\u001b[0m\n\u001b[1;32m   1167\u001b[0m             \u001b[0;32mif\u001b[0m \u001b[0mself\u001b[0m\u001b[0;34m.\u001b[0m\u001b[0m__limit\u001b[0m\u001b[0;34m:\u001b[0m\u001b[0;34m\u001b[0m\u001b[0;34m\u001b[0m\u001b[0m\n",
            "\u001b[0;32m/usr/local/lib/python3.7/dist-packages/pymongo/cursor.py\u001b[0m in \u001b[0;36m__send_message\u001b[0;34m(self, operation)\u001b[0m\n\u001b[1;32m   1051\u001b[0m         \u001b[0;32mtry\u001b[0m\u001b[0;34m:\u001b[0m\u001b[0;34m\u001b[0m\u001b[0;34m\u001b[0m\u001b[0m\n\u001b[1;32m   1052\u001b[0m             response = client._run_operation(\n\u001b[0;32m-> 1053\u001b[0;31m                 \u001b[0moperation\u001b[0m\u001b[0;34m,\u001b[0m \u001b[0mself\u001b[0m\u001b[0;34m.\u001b[0m\u001b[0m_unpack_response\u001b[0m\u001b[0;34m,\u001b[0m \u001b[0maddress\u001b[0m\u001b[0;34m=\u001b[0m\u001b[0mself\u001b[0m\u001b[0;34m.\u001b[0m\u001b[0m__address\u001b[0m\u001b[0;34m\u001b[0m\u001b[0;34m\u001b[0m\u001b[0m\n\u001b[0m\u001b[1;32m   1054\u001b[0m             )\n\u001b[1;32m   1055\u001b[0m         \u001b[0;32mexcept\u001b[0m \u001b[0mOperationFailure\u001b[0m \u001b[0;32mas\u001b[0m \u001b[0mexc\u001b[0m\u001b[0;34m:\u001b[0m\u001b[0;34m\u001b[0m\u001b[0;34m\u001b[0m\u001b[0m\n",
            "\u001b[0;32m/usr/local/lib/python3.7/dist-packages/pymongo/mongo_client.py\u001b[0m in \u001b[0;36m_run_operation\u001b[0;34m(self, operation, unpack_res, address)\u001b[0m\n\u001b[1;32m   1270\u001b[0m             \u001b[0moperation\u001b[0m\u001b[0;34m.\u001b[0m\u001b[0msession\u001b[0m\u001b[0;34m,\u001b[0m\u001b[0;34m\u001b[0m\u001b[0;34m\u001b[0m\u001b[0m\n\u001b[1;32m   1271\u001b[0m             \u001b[0maddress\u001b[0m\u001b[0;34m=\u001b[0m\u001b[0maddress\u001b[0m\u001b[0;34m,\u001b[0m\u001b[0;34m\u001b[0m\u001b[0;34m\u001b[0m\u001b[0m\n\u001b[0;32m-> 1272\u001b[0;31m             \u001b[0mretryable\u001b[0m\u001b[0;34m=\u001b[0m\u001b[0misinstance\u001b[0m\u001b[0;34m(\u001b[0m\u001b[0moperation\u001b[0m\u001b[0;34m,\u001b[0m \u001b[0mmessage\u001b[0m\u001b[0;34m.\u001b[0m\u001b[0m_Query\u001b[0m\u001b[0;34m)\u001b[0m\u001b[0;34m,\u001b[0m\u001b[0;34m\u001b[0m\u001b[0;34m\u001b[0m\u001b[0m\n\u001b[0m\u001b[1;32m   1273\u001b[0m         )\n\u001b[1;32m   1274\u001b[0m \u001b[0;34m\u001b[0m\u001b[0m\n",
            "\u001b[0;32m/usr/local/lib/python3.7/dist-packages/pymongo/mongo_client.py\u001b[0m in \u001b[0;36m_retryable_read\u001b[0;34m(self, func, read_pref, session, address, retryable)\u001b[0m\n\u001b[1;32m   1369\u001b[0m                         \u001b[0;32massert\u001b[0m \u001b[0mlast_error\u001b[0m \u001b[0;32mis\u001b[0m \u001b[0;32mnot\u001b[0m \u001b[0;32mNone\u001b[0m\u001b[0;34m\u001b[0m\u001b[0;34m\u001b[0m\u001b[0m\n\u001b[1;32m   1370\u001b[0m                         \u001b[0;32mraise\u001b[0m \u001b[0mlast_error\u001b[0m\u001b[0;34m\u001b[0m\u001b[0;34m\u001b[0m\u001b[0m\n\u001b[0;32m-> 1371\u001b[0;31m                     \u001b[0;32mreturn\u001b[0m \u001b[0mfunc\u001b[0m\u001b[0;34m(\u001b[0m\u001b[0msession\u001b[0m\u001b[0;34m,\u001b[0m \u001b[0mserver\u001b[0m\u001b[0;34m,\u001b[0m \u001b[0msock_info\u001b[0m\u001b[0;34m,\u001b[0m \u001b[0mread_pref\u001b[0m\u001b[0;34m)\u001b[0m\u001b[0;34m\u001b[0m\u001b[0;34m\u001b[0m\u001b[0m\n\u001b[0m\u001b[1;32m   1372\u001b[0m             \u001b[0;32mexcept\u001b[0m \u001b[0mServerSelectionTimeoutError\u001b[0m\u001b[0;34m:\u001b[0m\u001b[0;34m\u001b[0m\u001b[0;34m\u001b[0m\u001b[0m\n\u001b[1;32m   1373\u001b[0m                 \u001b[0;32mif\u001b[0m \u001b[0mretrying\u001b[0m\u001b[0;34m:\u001b[0m\u001b[0;34m\u001b[0m\u001b[0;34m\u001b[0m\u001b[0m\n",
            "\u001b[0;32m/usr/local/lib/python3.7/dist-packages/pymongo/mongo_client.py\u001b[0m in \u001b[0;36m_cmd\u001b[0;34m(session, server, sock_info, read_preference)\u001b[0m\n\u001b[1;32m   1262\u001b[0m         \u001b[0;32mdef\u001b[0m \u001b[0m_cmd\u001b[0m\u001b[0;34m(\u001b[0m\u001b[0msession\u001b[0m\u001b[0;34m,\u001b[0m \u001b[0mserver\u001b[0m\u001b[0;34m,\u001b[0m \u001b[0msock_info\u001b[0m\u001b[0;34m,\u001b[0m \u001b[0mread_preference\u001b[0m\u001b[0;34m)\u001b[0m\u001b[0;34m:\u001b[0m\u001b[0;34m\u001b[0m\u001b[0;34m\u001b[0m\u001b[0m\n\u001b[1;32m   1263\u001b[0m             return server.run_operation(\n\u001b[0;32m-> 1264\u001b[0;31m                 \u001b[0msock_info\u001b[0m\u001b[0;34m,\u001b[0m \u001b[0moperation\u001b[0m\u001b[0;34m,\u001b[0m \u001b[0mread_preference\u001b[0m\u001b[0;34m,\u001b[0m \u001b[0mself\u001b[0m\u001b[0;34m.\u001b[0m\u001b[0m_event_listeners\u001b[0m\u001b[0;34m,\u001b[0m \u001b[0munpack_res\u001b[0m\u001b[0;34m\u001b[0m\u001b[0;34m\u001b[0m\u001b[0m\n\u001b[0m\u001b[1;32m   1265\u001b[0m             )\n\u001b[1;32m   1266\u001b[0m \u001b[0;34m\u001b[0m\u001b[0m\n",
            "\u001b[0;32m/usr/local/lib/python3.7/dist-packages/pymongo/server.py\u001b[0m in \u001b[0;36mrun_operation\u001b[0;34m(self, sock_info, operation, read_preference, listeners, unpack_res)\u001b[0m\n\u001b[1;32m    132\u001b[0m                 \u001b[0mfirst\u001b[0m \u001b[0;34m=\u001b[0m \u001b[0mdocs\u001b[0m\u001b[0;34m[\u001b[0m\u001b[0;36m0\u001b[0m\u001b[0;34m]\u001b[0m\u001b[0;34m\u001b[0m\u001b[0;34m\u001b[0m\u001b[0m\n\u001b[1;32m    133\u001b[0m                 \u001b[0moperation\u001b[0m\u001b[0;34m.\u001b[0m\u001b[0mclient\u001b[0m\u001b[0;34m.\u001b[0m\u001b[0m_process_response\u001b[0m\u001b[0;34m(\u001b[0m\u001b[0mfirst\u001b[0m\u001b[0;34m,\u001b[0m \u001b[0moperation\u001b[0m\u001b[0;34m.\u001b[0m\u001b[0msession\u001b[0m\u001b[0;34m)\u001b[0m\u001b[0;34m\u001b[0m\u001b[0;34m\u001b[0m\u001b[0m\n\u001b[0;32m--> 134\u001b[0;31m                 \u001b[0m_check_command_response\u001b[0m\u001b[0;34m(\u001b[0m\u001b[0mfirst\u001b[0m\u001b[0;34m,\u001b[0m \u001b[0msock_info\u001b[0m\u001b[0;34m.\u001b[0m\u001b[0mmax_wire_version\u001b[0m\u001b[0;34m)\u001b[0m\u001b[0;34m\u001b[0m\u001b[0;34m\u001b[0m\u001b[0m\n\u001b[0m\u001b[1;32m    135\u001b[0m         \u001b[0;32mexcept\u001b[0m \u001b[0mException\u001b[0m \u001b[0;32mas\u001b[0m \u001b[0mexc\u001b[0m\u001b[0;34m:\u001b[0m\u001b[0;34m\u001b[0m\u001b[0;34m\u001b[0m\u001b[0m\n\u001b[1;32m    136\u001b[0m             \u001b[0;32mif\u001b[0m \u001b[0mpublish\u001b[0m\u001b[0;34m:\u001b[0m\u001b[0;34m\u001b[0m\u001b[0;34m\u001b[0m\u001b[0m\n",
            "\u001b[0;32m/usr/local/lib/python3.7/dist-packages/pymongo/helpers.py\u001b[0m in \u001b[0;36m_check_command_response\u001b[0;34m(response, max_wire_version, allowable_errors, parse_write_concern_error)\u001b[0m\n\u001b[1;32m    178\u001b[0m         \u001b[0;32mraise\u001b[0m \u001b[0mCursorNotFound\u001b[0m\u001b[0;34m(\u001b[0m\u001b[0merrmsg\u001b[0m\u001b[0;34m,\u001b[0m \u001b[0mcode\u001b[0m\u001b[0;34m,\u001b[0m \u001b[0mresponse\u001b[0m\u001b[0;34m,\u001b[0m \u001b[0mmax_wire_version\u001b[0m\u001b[0;34m)\u001b[0m\u001b[0;34m\u001b[0m\u001b[0;34m\u001b[0m\u001b[0m\n\u001b[1;32m    179\u001b[0m \u001b[0;34m\u001b[0m\u001b[0m\n\u001b[0;32m--> 180\u001b[0;31m     \u001b[0;32mraise\u001b[0m \u001b[0mOperationFailure\u001b[0m\u001b[0;34m(\u001b[0m\u001b[0merrmsg\u001b[0m\u001b[0;34m,\u001b[0m \u001b[0mcode\u001b[0m\u001b[0;34m,\u001b[0m \u001b[0mresponse\u001b[0m\u001b[0;34m,\u001b[0m \u001b[0mmax_wire_version\u001b[0m\u001b[0;34m)\u001b[0m\u001b[0;34m\u001b[0m\u001b[0;34m\u001b[0m\u001b[0m\n\u001b[0m\u001b[1;32m    181\u001b[0m \u001b[0;34m\u001b[0m\u001b[0m\n\u001b[1;32m    182\u001b[0m \u001b[0;34m\u001b[0m\u001b[0m\n",
            "\u001b[0;31mOperationFailure\u001b[0m: Projection cannot have a mix of inclusion and exclusion., full error: {'ok': 0.0, 'errmsg': 'Projection cannot have a mix of inclusion and exclusion.', 'code': 2, 'codeName': 'BadValue'}"
          ]
        }
      ]
    },
    {
      "cell_type": "markdown",
      "source": [
        "**MongoDB Query**\n",
        "\n",
        "Use a query in 'find()' to limit the search"
      ],
      "metadata": {
        "id": "KDJWqDtqQifc"
      }
    },
    {
      "cell_type": "code",
      "source": [
        "for i in newcoll.find({\"fname\": \"Davis\"}, {\"_id\": 0}):\n",
        "    print(i)"
      ],
      "metadata": {
        "colab": {
          "base_uri": "https://localhost:8080/"
        },
        "id": "oTB8NrPxRVtT",
        "outputId": "4ad94b0e-1669-4e12-c5c4-8de3ceb3d6f5"
      },
      "execution_count": null,
      "outputs": [
        {
          "output_type": "stream",
          "name": "stdout",
          "text": [
            "{'fname': 'Davis', 'lname': 'West', 'address': '57 Maple Avenue'}\n"
          ]
        }
      ]
    },
    {
      "cell_type": "markdown",
      "source": [
        "Advanced queries:"
      ],
      "metadata": {
        "id": "9NUL6DxGSPmC"
      }
    },
    {
      "cell_type": "code",
      "source": [
        "# Find address that start with letters 'P' or greater (...W, X, Y, Z)\n",
        "\n",
        "for i in newcoll.find({\"address\": {\"$gt\": \"P\"}}):\n",
        "    print(i)"
      ],
      "metadata": {
        "colab": {
          "base_uri": "https://localhost:8080/"
        },
        "id": "UqrriPloSmB-",
        "outputId": "5be3fe1c-95bd-4e0e-81ea-7e8bc3c5097e"
      },
      "execution_count": null,
      "outputs": [
        {
          "output_type": "stream",
          "name": "stdout",
          "text": [
            "{'_id': ObjectId('625b17ca470a249dff08b825'), 'fname': 'Steve', 'lname': 'Graham', 'address': 'Paradise St., No. 27'}\n",
            "{'_id': 3, 'fname': 'Christopher', 'lname': 'Lee', 'address': 'West 22, 117th Street'}\n"
          ]
        }
      ]
    },
    {
      "cell_type": "markdown",
      "source": [
        "Regular expressions can also be used as search modifiers"
      ],
      "metadata": {
        "id": "QEvyp4hAUax1"
      }
    },
    {
      "cell_type": "code",
      "source": [
        "# Find first names that start with 'Da'\n",
        "\n",
        "for i in newcoll.find({\"fname\": {\"$regex\": \"^Da\"}}):\n",
        "    print(i)"
      ],
      "metadata": {
        "colab": {
          "base_uri": "https://localhost:8080/"
        },
        "id": "4PY8KTwrUiaM",
        "outputId": "e2ae1ca7-3ef2-41c5-bd0f-dc4ecf318e35"
      },
      "execution_count": null,
      "outputs": [
        {
          "output_type": "stream",
          "name": "stdout",
          "text": [
            "{'_id': ObjectId('625b17ca470a249dff08b828'), 'fname': 'Davis', 'lname': 'West', 'address': '57 Maple Avenue'}\n",
            "{'_id': 4, 'fname': 'David', 'lname': 'Roberts', 'address': '81 Pine Boulevard'}\n"
          ]
        }
      ]
    },
    {
      "cell_type": "markdown",
      "source": [
        "**MongoDB Sort:**\n",
        "\n",
        "Use '.sort()' to arrange the results in ascending (default) order descending order."
      ],
      "metadata": {
        "id": "u6aLg3iClyQE"
      }
    },
    {
      "cell_type": "code",
      "source": [
        "# Sort by first name\n",
        "\n",
        "for i in newcoll.find({}, {\"_id\": 0}).sort(\"fname\"):\n",
        "    print(i)"
      ],
      "metadata": {
        "colab": {
          "base_uri": "https://localhost:8080/"
        },
        "id": "kCBTkc0el304",
        "outputId": "6937155d-a25d-4ee8-dab1-3f106968881a"
      },
      "execution_count": null,
      "outputs": [
        {
          "output_type": "stream",
          "name": "stdout",
          "text": [
            "{'fname': 'Bill', 'lname': 'Green', 'address': '29 Main St'}\n",
            "{'fname': 'Christopher', 'lname': 'Lee', 'address': 'West 22, 117th Street'}\n",
            "{'fname': 'David', 'lname': 'Roberts', 'address': '81 Pine Boulevard'}\n",
            "{'fname': 'Davis', 'lname': 'West', 'address': '57 Maple Avenue'}\n",
            "{'fname': 'Harry', 'lname': 'Dimitriov', 'address': '13 South Boulevard'}\n",
            "{'fname': 'John', 'lname': 'Macmillan', 'address': '7 Busy St.'}\n",
            "{'fname': 'Jonathan', 'lname': 'Columbus', 'address': '52 72nd Street'}\n",
            "{'fname': 'Steve', 'lname': 'Graham', 'address': 'Paradise St., No. 27'}\n",
            "{'fname': 'Travis', 'lname': 'Wyatt', 'address': '22 Elm Street'}\n",
            "{'fname': 'Tyler', 'lname': 'Chesky', 'address': '22 Southampton'}\n",
            "{'fname': 'Umar', 'lname': 'Abu', 'address': '37 5th Avenue'}\n"
          ]
        }
      ]
    },
    {
      "cell_type": "markdown",
      "source": [
        "Sort ascending or descending"
      ],
      "metadata": {
        "id": "kwGBmSl6nsZX"
      }
    },
    {
      "cell_type": "code",
      "source": [
        "# Sort ascending: Use '1'\n",
        "\n",
        "d = newcoll.find({}, {\"_id\": 0})\n",
        "\n",
        "for i in d.sort(\"lname\", 1):\n",
        "    print(i)"
      ],
      "metadata": {
        "colab": {
          "base_uri": "https://localhost:8080/"
        },
        "id": "2-VyOS0rn0c_",
        "outputId": "1865b6c2-a82c-4fc3-d635-10d9bec5800a"
      },
      "execution_count": null,
      "outputs": [
        {
          "output_type": "stream",
          "name": "stdout",
          "text": [
            "{'fname': 'Umar', 'lname': 'Abu', 'address': '37 5th Avenue'}\n",
            "{'fname': 'Tyler', 'lname': 'Chesky', 'address': '22 Southampton'}\n",
            "{'fname': 'Jonathan', 'lname': 'Columbus', 'address': '52 72nd Street'}\n",
            "{'fname': 'Harry', 'lname': 'Dimitriov', 'address': '13 South Boulevard'}\n",
            "{'fname': 'Steve', 'lname': 'Graham', 'address': 'Paradise St., No. 27'}\n",
            "{'fname': 'Bill', 'lname': 'Green', 'address': '29 Main St'}\n",
            "{'fname': 'Christopher', 'lname': 'Lee', 'address': 'West 22, 117th Street'}\n",
            "{'fname': 'John', 'lname': 'Macmillan', 'address': '7 Busy St.'}\n",
            "{'fname': 'David', 'lname': 'Roberts', 'address': '81 Pine Boulevard'}\n",
            "{'fname': 'Davis', 'lname': 'West', 'address': '57 Maple Avenue'}\n",
            "{'fname': 'Travis', 'lname': 'Wyatt', 'address': '22 Elm Street'}\n"
          ]
        }
      ]
    },
    {
      "cell_type": "code",
      "source": [
        "# Sort descending: Use '-1'\n",
        "\n",
        "e = newcoll.find({}, {\"_id\": 0})\n",
        "for i in e.sort(\"lname\", -1):\n",
        "    print(i)"
      ],
      "metadata": {
        "colab": {
          "base_uri": "https://localhost:8080/"
        },
        "id": "tdUabM-1pkof",
        "outputId": "b6449042-3e4f-489f-900f-5591ab6e6998"
      },
      "execution_count": null,
      "outputs": [
        {
          "output_type": "stream",
          "name": "stdout",
          "text": [
            "{'fname': 'Travis', 'lname': 'Wyatt', 'address': '22 Elm Street'}\n",
            "{'fname': 'Davis', 'lname': 'West', 'address': '57 Maple Avenue'}\n",
            "{'fname': 'David', 'lname': 'Roberts', 'address': '81 Pine Boulevard'}\n",
            "{'fname': 'John', 'lname': 'Macmillan', 'address': '7 Busy St.'}\n",
            "{'fname': 'Christopher', 'lname': 'Lee', 'address': 'West 22, 117th Street'}\n",
            "{'fname': 'Bill', 'lname': 'Green', 'address': '29 Main St'}\n",
            "{'fname': 'Steve', 'lname': 'Graham', 'address': 'Paradise St., No. 27'}\n",
            "{'fname': 'Harry', 'lname': 'Dimitriov', 'address': '13 South Boulevard'}\n",
            "{'fname': 'Jonathan', 'lname': 'Columbus', 'address': '52 72nd Street'}\n",
            "{'fname': 'Tyler', 'lname': 'Chesky', 'address': '22 Southampton'}\n",
            "{'fname': 'Umar', 'lname': 'Abu', 'address': '37 5th Avenue'}\n"
          ]
        }
      ]
    },
    {
      "cell_type": "markdown",
      "source": [
        "**MongoDB Delete**"
      ],
      "metadata": {
        "id": "7Z3Bh3nhq26W"
      }
    },
    {
      "cell_type": "markdown",
      "source": [
        "Delete one document"
      ],
      "metadata": {
        "id": "hjYMDqjsskra"
      }
    },
    {
      "cell_type": "code",
      "source": [
        "# Delete the first entry\n",
        "\n",
        "newcoll.delete_one({})\n",
        "\n",
        "for i in newcoll.find():\n",
        "    print(i)"
      ],
      "metadata": {
        "colab": {
          "base_uri": "https://localhost:8080/"
        },
        "id": "mCLYspQoq89p",
        "outputId": "c1381788-1d26-41bd-9893-252a4c6da4f5"
      },
      "execution_count": null,
      "outputs": [
        {
          "output_type": "stream",
          "name": "stdout",
          "text": [
            "{'_id': ObjectId('625b17ca470a249dff08b825'), 'fname': 'Steve', 'lname': 'Graham', 'address': 'Paradise St., No. 27'}\n",
            "{'_id': ObjectId('625b17ca470a249dff08b826'), 'fname': 'John', 'lname': 'Macmillan', 'address': '7 Busy St.'}\n",
            "{'_id': ObjectId('625b17ca470a249dff08b827'), 'fname': 'Bill', 'lname': 'Green', 'address': '29 Main St'}\n",
            "{'_id': ObjectId('625b17ca470a249dff08b828'), 'fname': 'Davis', 'lname': 'West', 'address': '57 Maple Avenue'}\n",
            "{'_id': ObjectId('625b17ca470a249dff08b829'), 'fname': 'Harry', 'lname': 'Dimitriov', 'address': '13 South Boulevard'}\n",
            "{'_id': 1, 'fname': 'Travis', 'lname': 'Wyatt', 'address': '22 Elm Street'}\n",
            "{'_id': 2, 'fname': 'Umar', 'lname': 'Abu', 'address': '37 5th Avenue'}\n",
            "{'_id': 3, 'fname': 'Christopher', 'lname': 'Lee', 'address': 'West 22, 117th Street'}\n",
            "{'_id': 4, 'fname': 'David', 'lname': 'Roberts', 'address': '81 Pine Boulevard'}\n",
            "{'_id': 5, 'fname': 'Jonathan', 'lname': 'Columbus', 'address': '52 72nd Street'}\n"
          ]
        }
      ]
    },
    {
      "cell_type": "code",
      "source": [
        "# Delete an entry with a query\n",
        "# delete_one() deletes the 1st occurrence \n",
        "# if there are more than one\n",
        "\n",
        "newcoll.delete_one({\"lname\": {\"$regex\": \"^Gr\"}})\n",
        "\n",
        "for i in newcoll.find():\n",
        "    print(i)"
      ],
      "metadata": {
        "colab": {
          "base_uri": "https://localhost:8080/"
        },
        "id": "_H9IydbYuT8N",
        "outputId": "7410f252-bebc-4fd3-f710-ed90284f66dd"
      },
      "execution_count": null,
      "outputs": [
        {
          "output_type": "stream",
          "name": "stdout",
          "text": [
            "{'_id': ObjectId('625b17ca470a249dff08b826'), 'fname': 'John', 'lname': 'Macmillan', 'address': '7 Busy St.'}\n",
            "{'_id': ObjectId('625b17ca470a249dff08b827'), 'fname': 'Bill', 'lname': 'Green', 'address': '29 Main St'}\n",
            "{'_id': ObjectId('625b17ca470a249dff08b828'), 'fname': 'Davis', 'lname': 'West', 'address': '57 Maple Avenue'}\n",
            "{'_id': ObjectId('625b17ca470a249dff08b829'), 'fname': 'Harry', 'lname': 'Dimitriov', 'address': '13 South Boulevard'}\n",
            "{'_id': 1, 'fname': 'Travis', 'lname': 'Wyatt', 'address': '22 Elm Street'}\n",
            "{'_id': 2, 'fname': 'Umar', 'lname': 'Abu', 'address': '37 5th Avenue'}\n",
            "{'_id': 3, 'fname': 'Christopher', 'lname': 'Lee', 'address': 'West 22, 117th Street'}\n",
            "{'_id': 4, 'fname': 'David', 'lname': 'Roberts', 'address': '81 Pine Boulevard'}\n",
            "{'_id': 5, 'fname': 'Jonathan', 'lname': 'Columbus', 'address': '52 72nd Street'}\n"
          ]
        }
      ]
    },
    {
      "cell_type": "markdown",
      "source": [
        "Delete Many"
      ],
      "metadata": {
        "id": "CUNd3Euy149I"
      }
    },
    {
      "cell_type": "code",
      "source": [
        "# Select documents to delete with query\n",
        "\n",
        "g = newcoll.delete_many({\"fname\": {\"$gt\": \"Ty\"}})\n",
        "\n",
        "for i in newcoll.find({}, {\"_id\": 0}).sort(\"fname\"):\n",
        "    print(i)\n",
        "\n",
        "print(g.deleted_count)"
      ],
      "metadata": {
        "colab": {
          "base_uri": "https://localhost:8080/"
        },
        "id": "JdNVlFbH16SR",
        "outputId": "4bf3db56-6947-401f-d3e5-da705a69acd4"
      },
      "execution_count": null,
      "outputs": [
        {
          "output_type": "stream",
          "name": "stdout",
          "text": [
            "{'fname': 'Bill', 'lname': 'Green', 'address': '29 Main St'}\n",
            "{'fname': 'Christopher', 'lname': 'Lee', 'address': 'West 22, 117th Street'}\n",
            "{'fname': 'David', 'lname': 'Roberts', 'address': '81 Pine Boulevard'}\n",
            "{'fname': 'Davis', 'lname': 'West', 'address': '57 Maple Avenue'}\n",
            "{'fname': 'Harry', 'lname': 'Dimitriov', 'address': '13 South Boulevard'}\n",
            "{'fname': 'John', 'lname': 'Macmillan', 'address': '7 Busy St.'}\n",
            "{'fname': 'Jonathan', 'lname': 'Columbus', 'address': '52 72nd Street'}\n",
            "{'fname': 'Travis', 'lname': 'Wyatt', 'address': '22 Elm Street'}\n",
            "1\n"
          ]
        }
      ]
    },
    {
      "cell_type": "markdown",
      "source": [
        "Delete all entries"
      ],
      "metadata": {
        "id": "G5-BZ5X31d0-"
      }
    },
    {
      "cell_type": "code",
      "source": [
        "# Delete all documents (skipped until after limit)\n",
        "\n",
        "h = newcoll.delete_many({})\n",
        "\n",
        "print(h.deleted_count)"
      ],
      "metadata": {
        "colab": {
          "base_uri": "https://localhost:8080/"
        },
        "id": "ae0PlFYS4UlI",
        "outputId": "ae9d4ba7-fe23-4f3d-f8f5-15eab87267b8"
      },
      "execution_count": null,
      "outputs": [
        {
          "output_type": "stream",
          "name": "stdout",
          "text": [
            "8\n"
          ]
        }
      ]
    },
    {
      "cell_type": "markdown",
      "source": [
        "**MongoDB Delete Table**"
      ],
      "metadata": {
        "id": "jIqiJ9AP6kJE"
      }
    },
    {
      "cell_type": "code",
      "source": [
        "# Use drop to delete a table (skipped until after Limit and delete many (2))\n",
        "\n",
        "j = newcoll.drop() # False if table does not exist"
      ],
      "metadata": {
        "id": "6eP3VBJT6swj"
      },
      "execution_count": null,
      "outputs": []
    },
    {
      "cell_type": "markdown",
      "source": [
        "**MongoDB Update**"
      ],
      "metadata": {
        "id": "CtCQOMbD8c6x"
      }
    },
    {
      "cell_type": "markdown",
      "source": [
        "Update one"
      ],
      "metadata": {
        "id": "UHwzXiqW-vID"
      }
    },
    {
      "cell_type": "code",
      "source": [
        "# Update one document\n",
        "\n",
        "k = newcoll.update_one({\"fname\": \"Bill\"}, {\"$set\": {\"fname\": \"Fredrick\"}}) # updates the first record that matches the query\n",
        "\n",
        "for i in newcoll.find():\n",
        "    print(i)"
      ],
      "metadata": {
        "colab": {
          "base_uri": "https://localhost:8080/"
        },
        "id": "JL4ZX11x8ww0",
        "outputId": "8e13df8e-b44b-4e1e-8ae2-fadd03e8a923"
      },
      "execution_count": null,
      "outputs": [
        {
          "output_type": "stream",
          "name": "stdout",
          "text": [
            "{'_id': ObjectId('625b17ca470a249dff08b826'), 'fname': 'John', 'lname': 'Macmillan', 'address': '7 Busy St.'}\n",
            "{'_id': ObjectId('625b17ca470a249dff08b827'), 'fname': 'Fredrick', 'lname': 'Green', 'address': '29 Main St'}\n",
            "{'_id': ObjectId('625b17ca470a249dff08b828'), 'fname': 'Davis', 'lname': 'West', 'address': '57 Maple Avenue'}\n",
            "{'_id': ObjectId('625b17ca470a249dff08b829'), 'fname': 'Harry', 'lname': 'Dimitriov', 'address': '13 South Boulevard'}\n",
            "{'_id': 1, 'fname': 'Travis', 'lname': 'Wyatt', 'address': '22 Elm Street'}\n",
            "{'_id': 3, 'fname': 'Christopher', 'lname': 'Lee', 'address': 'West 22, 117th Street'}\n",
            "{'_id': 4, 'fname': 'David', 'lname': 'Roberts', 'address': '81 Pine Boulevard'}\n",
            "{'_id': 5, 'fname': 'Jonathan', 'lname': 'Columbus', 'address': '52 72nd Street'}\n"
          ]
        }
      ]
    },
    {
      "cell_type": "markdown",
      "source": [
        "Update many"
      ],
      "metadata": {
        "id": "Cldrz-7V_Vr1"
      }
    },
    {
      "cell_type": "code",
      "source": [
        "to_update = {\"address\": {\"$regex\": \"^2\"}}\n",
        "\n",
        "new = {\"$set\": {\"lname\": \"Robinson\"}}\n",
        "\n",
        "l = newcoll.update_many(to_update, new)\n",
        "\n",
        "for i in newcoll.find():\n",
        "    print(i)"
      ],
      "metadata": {
        "colab": {
          "base_uri": "https://localhost:8080/"
        },
        "id": "dL8l_V0l_nmn",
        "outputId": "46186a60-4b1c-4b94-b198-33b6a210b9b7"
      },
      "execution_count": null,
      "outputs": [
        {
          "output_type": "stream",
          "name": "stdout",
          "text": [
            "{'_id': ObjectId('625b17ca470a249dff08b826'), 'fname': 'John', 'lname': 'Macmillan', 'address': '7 Busy St.'}\n",
            "{'_id': ObjectId('625b17ca470a249dff08b827'), 'fname': 'Fredrick', 'lname': 'Robinson', 'address': '29 Main St'}\n",
            "{'_id': ObjectId('625b17ca470a249dff08b828'), 'fname': 'Davis', 'lname': 'West', 'address': '57 Maple Avenue'}\n",
            "{'_id': ObjectId('625b17ca470a249dff08b829'), 'fname': 'Harry', 'lname': 'Dimitriov', 'address': '13 South Boulevard'}\n",
            "{'_id': 1, 'fname': 'Travis', 'lname': 'Robinson', 'address': '22 Elm Street'}\n",
            "{'_id': 3, 'fname': 'Christopher', 'lname': 'Lee', 'address': 'West 22, 117th Street'}\n",
            "{'_id': 4, 'fname': 'David', 'lname': 'Roberts', 'address': '81 Pine Boulevard'}\n",
            "{'_id': 5, 'fname': 'Jonathan', 'lname': 'Columbus', 'address': '52 72nd Street'}\n"
          ]
        }
      ]
    },
    {
      "cell_type": "markdown",
      "source": [
        "**MongoDB Limit**"
      ],
      "metadata": {
        "id": "FxGFU1ALEoyi"
      }
    },
    {
      "cell_type": "code",
      "source": [
        "# Limit the number of result to display\n",
        "\n",
        "m = newcoll.find().limit(3)\n",
        "\n",
        "for i in m:\n",
        "    print(i)"
      ],
      "metadata": {
        "colab": {
          "base_uri": "https://localhost:8080/"
        },
        "id": "1q8PfBo8EutO",
        "outputId": "18a6becf-3cdf-4063-b324-53bbe8e027ba"
      },
      "execution_count": null,
      "outputs": [
        {
          "output_type": "stream",
          "name": "stdout",
          "text": [
            "{'_id': ObjectId('625b17ca470a249dff08b826'), 'fname': 'John', 'lname': 'Macmillan', 'address': '7 Busy St.'}\n",
            "{'_id': ObjectId('625b17ca470a249dff08b827'), 'fname': 'Fredrick', 'lname': 'Robinson', 'address': '29 Main St'}\n",
            "{'_id': ObjectId('625b17ca470a249dff08b828'), 'fname': 'Davis', 'lname': 'West', 'address': '57 Maple Avenue'}\n"
          ]
        }
      ]
    }
  ]
}